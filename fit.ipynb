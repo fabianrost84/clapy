{
 "cells": [
  {
   "cell_type": "code",
   "execution_count": null,
   "metadata": {},
   "outputs": [],
   "source": [
    "import numpy as np\n",
    "from iminuit import Minuit\n",
    "\n",
    "import clapy\n",
    "\n",
    "import matplotlib.pyplot as plt\n",
    "%matplotlib inline\n",
    "\n"
   ]
  },
  {
   "cell_type": "code",
   "execution_count": null,
   "metadata": {},
   "outputs": [],
   "source": [
    "#gen data need clasim\n",
    "\n",
    "import clasim\n",
    "dargs = {\n",
    "        'samples': 5,\n",
    "        'nCells': 100,\n",
    "        'mCells': 100,\n",
    "        'GF': 0.95,\n",
    "        'G1': 0.5,\n",
    "        'S': 0.3,\n",
    "        'G2M': 0.2,\n",
    "        'sCells' : 0.3,\n",
    "        'sSamples' : 0.2\n",
    "}\n",
    "timep = [0.1,0.4,0.5,0.8,1.0,1.2]\n",
    "ncells = dargs['nCells']\n",
    "labeld_cells,times = np.array(clasim.run(seed=int(np.random.rand()*1000),mode=1,times=timep,**dargs)) \n",
    "\n"
   ]
  },
  {
   "cell_type": "code",
   "execution_count": null,
   "metadata": {},
   "outputs": [],
   "source": [
    "times  = np.array([0.1, 0.1, 0.1, 0.1, 0.1, \n",
    "                0.4, 0.4, 0.4, 0.4, 0.4, \n",
    "                0.5, 0.5, 0.5, 0.5, 0.5,\n",
    "                0.8, 0.8, 0.8, 0.8, 0.8, \n",
    "                1.2, 1.2, 1.2, 1.2, 1.2]) \n",
    "ncells = 100\n",
    "labeld_cells = np.array([30., 49., 34., 43., 36.,\n",
    "                      77., 74., 70., 56., 68.,\n",
    "                      86., 84., 76., 86., 89.,\n",
    "                      82., 87., 96., 91., 95.,\n",
    "                      95., 94., 95., 93., 91.])"
   ]
  },
  {
   "cell_type": "code",
   "execution_count": null,
   "metadata": {},
   "outputs": [],
   "source": [
    "paras, img = clapy.web_fit(times,labeld_cells,ncells*np.ones_like(times))"
   ]
  },
  {
   "cell_type": "code",
   "execution_count": null,
   "metadata": {},
   "outputs": [],
   "source": [
    "with open(\"myfile.png\", \"wb\") as f:\n",
    "    f.write(img)"
   ]
  },
  {
   "cell_type": "code",
   "execution_count": null,
   "metadata": {},
   "outputs": [],
   "source": [
    "img"
   ]
  },
  {
   "cell_type": "code",
   "execution_count": null,
   "metadata": {},
   "outputs": [],
   "source": []
  }
 ],
 "metadata": {
  "kernelspec": {
   "display_name": "Python 3",
   "language": "python",
   "name": "python3"
  },
  "language_info": {
   "codemirror_mode": {
    "name": "ipython",
    "version": 3
   },
   "file_extension": ".py",
   "mimetype": "text/x-python",
   "name": "python",
   "nbconvert_exporter": "python",
   "pygments_lexer": "ipython3"
  },
  "toc": {
   "nav_menu": {
    "height": "12px",
    "width": "252px"
   },
   "number_sections": true,
   "sideBar": true,
   "skip_h1_title": false,
   "toc_cell": false,
   "toc_position": {},
   "toc_section_display": "block",
   "toc_window_display": false
  }
 },
 "nbformat": 4,
 "nbformat_minor": 2
}
