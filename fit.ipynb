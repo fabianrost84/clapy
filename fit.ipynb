{
 "cells": [
  {
   "cell_type": "code",
   "execution_count": null,
   "metadata": {},
   "outputs": [],
   "source": [
    "import numpy as np\n",
    "from iminuit import Minuit\n",
    "\n",
    "import clapy\n",
    "\n",
    "import matplotlib.pyplot as plt\n",
    "%matplotlib inline\n",
    "\n"
   ]
  },
  {
   "cell_type": "code",
   "execution_count": null,
   "metadata": {},
   "outputs": [],
   "source": [
    "from math import sqrt,log\n",
    "def fitfunc( t, Tc, r, GF):\n",
    "    if t<(Tc-Tc*r):\n",
    "        res = GF/Tc*(t+Tc*r)\n",
    "    else:\n",
    "        res =  GF\n",
    "    return res \n",
    "\n",
    "def mypdfln( x,  mu,  std):\n",
    "    #cpdef means generate both c function and python function\n",
    "    norm = (sqrt(2*np.pi*std*std))\n",
    "    ret = (-1*(x-mu)*(x-mu)/(2.*std*std))-log(norm)\n",
    "    return ret\n",
    "\n",
    "\n",
    "\n",
    "\n",
    "class Nowakowski_LH:  \n",
    "    def __init__(self,data,t):\n",
    "        self.data = data\n",
    "        self.t = t\n",
    "        self.ndata = len(data)\n",
    "    \n",
    "    def compute(self,  Tc, r, GF, s):\n",
    "        #this line is a cast not a copy. Let cython knows mydata will spit out double\n",
    "        mydata = self.data\n",
    "        myt = self.t\n",
    "        loglh = 0.\n",
    "        lmu = 0.\n",
    "        ler = 0.\n",
    "        for i in range(self.ndata):\n",
    "            lmu = fitfunc(myt[i],Tc,r,GF)\n",
    "            loglh -= mypdfln(mydata[i],lmu,s)\n",
    "        return loglh\n",
    "\n"
   ]
  },
  {
   "cell_type": "code",
   "execution_count": null,
   "metadata": {},
   "outputs": [],
   "source": [
    "#gen data need clasim\n",
    "'''\n",
    "import clasim\n",
    "dargs = {\n",
    "        'samples': 5,\n",
    "        'nCells': 100,\n",
    "        'mCells': 100,\n",
    "        'GF': 0.95,\n",
    "        'G1': 0.5,\n",
    "        'S': 0.3,\n",
    "        'G2M': 0.2,\n",
    "        'sCells' : 0.3,\n",
    "        'sSamples' : 0.2\n",
    "}\n",
    "timep = [0.1,0.4,0.5,0.8,1.0,1.2]\n",
    "ncells = dargs['nCells']\n",
    "labeld_cells,times = np.array(clasim.run(seed=int(np.random.rand()*1000),mode=1,times=timep,**dargs)) \n",
    "'''"
   ]
  },
  {
   "cell_type": "code",
   "execution_count": null,
   "metadata": {},
   "outputs": [],
   "source": [
    "times  = np.array([0.1, 0.1, 0.1, 0.1, 0.1, \n",
    "                0.4, 0.4, 0.4, 0.4, 0.4, \n",
    "                0.5, 0.5, 0.5, 0.5, 0.5,\n",
    "                0.8, 0.8, 0.8, 0.8, 0.8, \n",
    "                1.2, 1.2, 1.2, 1.2, 1.2]) \n",
    "ncells = 100\n",
    "labeld_cells = np.array([30., 49., 34., 43., 36.,\n",
    "                      77., 74., 70., 56., 68.,\n",
    "                      86., 84., 76., 86., 89.,\n",
    "                      82., 87., 96., 91., 95.,\n",
    "                      95., 94., 95., 93., 91.])"
   ]
  },
  {
   "cell_type": "code",
   "execution_count": null,
   "metadata": {},
   "outputs": [],
   "source": [
    "clapy.web_fit(times,labeld_cells,ncells*np.ones_like(times),'.','name')"
   ]
  },
  {
   "cell_type": "code",
   "execution_count": null,
   "metadata": {},
   "outputs": [],
   "source": [
    "\n",
    "if np.size(ncells) !=  np.size(labeld_cells):\n",
    "    ncells = np.ones_like(labeld_cells)*ncells\n",
    "\n",
    "#fit nowakowski\n",
    "lh = Nowakowski_LH(labeld_cells/ncells,times)\n",
    "mi_old = Minuit(lh.compute, Tc=1.0, r=0.3,GF=1,s=0.1,\\\n",
    "                      error_r=0.1,error_GF=0.1,error_Tc=0.1,error_s=0.1,\\\n",
    "           limit_Tc=(0.00001,2), limit_r=(0.00001,1),limit_GF=(0,1),limit_s=(0.0001,1),\\\n",
    "           errordef=0.5,print_level=2)\n",
    "mi_old.migrad()\n",
    "res = mi_old.values\n",
    "args = {\n",
    "        'GF': res['GF'],\n",
    "        'G1': res['Tc']*((1-res['r'])*0.5),\n",
    "        'S': res['Tc']*res['r'],\n",
    "        'G2M': res['Tc']*((1-res['r'])*0.5)\n",
    "}\n",
    "\n",
    "lhn = clapy.asym_lh(labeld_cells,times,ncells)\n",
    "mi = Minuit(lhn.compute, Tc=1.0, r=0.3,GF=1.0,fix_GF=False,sigma_sample=0.25,sigma_cell=0.3, \\\n",
    "           error_Tc=0.1,error_r=0.1,error_GF=0.1,error_sigma_sample=0.1,error_sigma_cell=0.1,\\\n",
    "           limit_Tc=(0.00001,2), limit_r=(0.00001,1),limit_GF=(0,1),limit_sigma_sample=(0.00001,1),limit_sigma_cell=(0.00001,1),\\\n",
    "           errordef=0.5,print_level=2)\n",
    "mi.migrad();\n",
    "\n",
    "fit = dict()\n",
    "for i in  mi.values:\n",
    "    fit.update( {i : {'value' : mi.values[i], '2sigma' : 2*mi.errors[i]}})\n",
    "\n",
    "\n",
    "plt.plot(times,labeld_cells/ncells,'.')\n",
    "\n",
    "ttt = np.linspace(0,times.max(),1000)\n",
    "plt.plot(ttt,clapy.cla_det_model(ttt,mode=1,**args),':',label=\"now. fit\")\n",
    "\n",
    "\n",
    "ttt2 = np.linspace(0.001,times.max(),100)\n",
    "\n",
    "d = clapy.dist()\n",
    "prob = np.zeros(len(ttt2))\n",
    "for t_n,t in enumerate(ttt2):\n",
    "    prob[t_n] = d.pmf_mean(np.mean(ncells),\\\n",
    "                           fit['Tc']['value'],fit['r']['value'],fit['GF']['value'],\\\n",
    "                           fit['sigma_cell']['value'],fit['sigma_sample']['value'],t)\\\n",
    "                / np.mean(ncells)\n",
    "\n",
    "plt.plot(ttt2,prob,label='probabilistic model')"
   ]
  },
  {
   "cell_type": "code",
   "execution_count": null,
   "metadata": {},
   "outputs": [],
   "source": []
  },
  {
   "cell_type": "code",
   "execution_count": null,
   "metadata": {},
   "outputs": [],
   "source": []
  }
 ],
 "metadata": {
  "kernelspec": {
   "display_name": "Python 3",
   "language": "python",
   "name": "python3"
  },
  "language_info": {
   "codemirror_mode": {
    "name": "ipython",
    "version": 3
   },
   "file_extension": ".py",
   "mimetype": "text/x-python",
   "name": "python",
   "nbconvert_exporter": "python",
   "pygments_lexer": "ipython3"
  },
  "toc": {
   "colors": {
    "hover_highlight": "#DAA520",
    "navigate_num": "#000000",
    "navigate_text": "#333333",
    "running_highlight": "#FF0000",
    "selected_highlight": "#FFD700",
    "sidebar_border": "#EEEEEE",
    "wrapper_background": "#FFFFFF"
   },
   "moveMenuLeft": true,
   "nav_menu": {
    "height": "12px",
    "width": "252px"
   },
   "navigate_menu": true,
   "number_sections": true,
   "sideBar": true,
   "threshold": 4,
   "toc_cell": false,
   "toc_section_display": "block",
   "toc_window_display": false,
   "widenNotebook": false
  }
 },
 "nbformat": 4,
 "nbformat_minor": 2
}
